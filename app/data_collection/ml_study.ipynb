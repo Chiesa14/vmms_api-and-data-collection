{
 "cells": [
  {
   "cell_type": "code",
   "id": "initial_id",
   "metadata": {
    "collapsed": true,
    "ExecuteTime": {
     "end_time": "2024-12-10T03:36:41.159550Z",
     "start_time": "2024-12-10T03:36:39.887305Z"
    }
   },
   "source": [
    "import pandas as pd\n",
    "from sklearn.impute import KNNImputer\n",
    "# Sample DataFrame with missing values\n",
    "data = {\n",
    "    \"A\": [1, 2, None, 4, 5],\n",
    "    \"B\": [None, 2, 3, 4, 5],\n",
    "    \"C\": [\"cat\", \"dog\", None, \"cat\", \"dog\"]\n",
    "}\n",
    "\n",
    "# Convert the dictionary into a pandas DataFrame\n",
    "df = pd.DataFrame(data)\n",
    "print(\"Original DataFrame:\\n\", df)\n",
    "\n",
    "# Initialize the KNN Imputer\n",
    "# n_neighbors specifies the number of nearest neighbors to consider\n",
    "imputer = KNNImputer(n_neighbors=2)\n",
    "\n",
    "# Use the KNN imputer to fill in missing values\n",
    "# Note: Categorical data needs to be converted to numerical format for KNN\n",
    "# we'll encode categorical data using one-hot encoding\n",
    "df_encoded = pd.get_dummies(df, columns=[\"C\"], drop_first=True)\n",
    "imputed_data = imputer.fit_transform(df_encoded)\n",
    "print('Encoded data:\\n', df_encoded)\n",
    "\n",
    "# Convert back to DataFrame and restore original column names\n",
    "imputed_df = pd.DataFrame(imputed_data, columns=df_encoded.columns)\n",
    "print(\"\\nImputed DataFrame:\\n\", imputed_df)\n"
   ],
   "outputs": [
    {
     "name": "stdout",
     "output_type": "stream",
     "text": [
      "Original DataFrame:\n",
      "      A    B     C\n",
      "0  1.0  NaN   cat\n",
      "1  2.0  2.0   dog\n",
      "2  NaN  3.0  None\n",
      "3  4.0  4.0   cat\n",
      "4  5.0  5.0   dog\n",
      "Encoded data:\n",
      "      A    B  C_dog\n",
      "0  1.0  NaN  False\n",
      "1  2.0  2.0   True\n",
      "2  NaN  3.0  False\n",
      "3  4.0  4.0  False\n",
      "4  5.0  5.0   True\n",
      "\n",
      "Imputed DataFrame:\n",
      "      A    B  C_dog\n",
      "0  1.0  2.5    0.0\n",
      "1  2.0  2.0    1.0\n",
      "2  2.5  3.0    0.0\n",
      "3  4.0  4.0    0.0\n",
      "4  5.0  5.0    1.0\n"
     ]
    }
   ],
   "execution_count": 1
  },
  {
   "metadata": {
    "ExecuteTime": {
     "end_time": "2024-12-10T03:36:46.119391Z",
     "start_time": "2024-12-10T03:36:46.088350Z"
    }
   },
   "cell_type": "code",
   "source": [
    "import pandas as pd\n",
    "\n",
    "# 5. Handling Missing Data:\n",
    "data_with_nan = {\n",
    "    'vin': ['1HGCM82633A123456', '1HGCM82633A654321', '1HGCM82633A789012'],\n",
    "    'manufacturer': ['Toyota', 'Ford', None],\n",
    "    'year': [2020, None, 2021],\n",
    "    'color': ['black', 'white', 'silver'],\n",
    "    'body_type': ['Sedan', 'SUV', 'Coupe'],\n",
    "    'engine_type': ['petrol', 'diesel', 'electric'],\n",
    "    'transmission': ['manual', 'automatic', None],\n",
    "    'fuel_type': ['gasoline', 'diesel', 'electric'],\n",
    "    'seating_capacity': [5, 7, 4],\n",
    "    'price': [20000.00, 25000.00, None],\n",
    "    'status': ['active', 'sold', 'inactive'],\n",
    "    'registration_date': ['2020-05-20', '2018-07-15', '2021-01-10']\n",
    "}\n",
    "\n",
    "df_with_nan = pd.DataFrame(data_with_nan)\n",
    "\n",
    "# Drop rows with missing values\n",
    "df_no_nan = df_with_nan.dropna()\n",
    "print(df_no_nan)\n",
    "\n",
    "# Fill missing values\n",
    "df_filled_nan = df_with_nan.fillna({'manufacturer': 'Unknown', 'year': 2020, 'transmission': 'manual', 'price': 0})\n",
    "print(df_filled_nan)\n",
    "\n",
    "print(\"6. Aggregating Data:\")\n",
    "grouped_df = df_with_nan.groupby('manufacturer')['price'].sum()\n",
    "print(grouped_df)\n"
   ],
   "id": "497dd7cabc692b35",
   "outputs": [
    {
     "name": "stdout",
     "output_type": "stream",
     "text": [
      "                 vin manufacturer    year  color body_type engine_type  \\\n",
      "0  1HGCM82633A123456       Toyota  2020.0  black     Sedan      petrol   \n",
      "\n",
      "  transmission fuel_type  seating_capacity    price  status registration_date  \n",
      "0       manual  gasoline                 5  20000.0  active        2020-05-20  \n",
      "                 vin manufacturer    year   color body_type engine_type  \\\n",
      "0  1HGCM82633A123456       Toyota  2020.0   black     Sedan      petrol   \n",
      "1  1HGCM82633A654321         Ford  2020.0   white       SUV      diesel   \n",
      "2  1HGCM82633A789012      Unknown  2021.0  silver     Coupe    electric   \n",
      "\n",
      "  transmission fuel_type  seating_capacity    price    status  \\\n",
      "0       manual  gasoline                 5  20000.0    active   \n",
      "1    automatic    diesel                 7  25000.0      sold   \n",
      "2       manual  electric                 4      0.0  inactive   \n",
      "\n",
      "  registration_date  \n",
      "0        2020-05-20  \n",
      "1        2018-07-15  \n",
      "2        2021-01-10  \n",
      "6. Aggregating Data:\n",
      "manufacturer\n",
      "Ford      25000.0\n",
      "Toyota    20000.0\n",
      "Name: price, dtype: float64\n"
     ]
    }
   ],
   "execution_count": 2
  },
  {
   "metadata": {
    "ExecuteTime": {
     "end_time": "2024-12-10T03:54:22.420800Z",
     "start_time": "2024-12-10T03:54:22.413211Z"
    }
   },
   "cell_type": "code",
   "source": [
    "import pandas as pd\n",
    "\n",
    "df1 = pd.DataFrame({\"id\": [1, 2, 3, 4], \"feature1\": [\"A\", \"B\", \"C\", \"D\"]})\n",
    "df2 = pd.DataFrame({\"id\": [3, 4, 5, 6], \"feature2\": [\"X\", \"Y\", \"Z\", \"W\"]})\n",
    "\n",
    "inner_join_df = pd.merge(df1, df2, on=\"id\", how=\"inner\")\n",
    "print(inner_join_df)\n"
   ],
   "id": "3fb934a1f469c060",
   "outputs": [
    {
     "name": "stdout",
     "output_type": "stream",
     "text": [
      "   id feature1 feature2\n",
      "0   3        C        X\n",
      "1   4        D        Y\n"
     ]
    }
   ],
   "execution_count": 3
  },
  {
   "metadata": {},
   "cell_type": "code",
   "outputs": [],
   "execution_count": null,
   "source": "",
   "id": "1003ebd29b9ba8d9"
  }
 ],
 "metadata": {
  "kernelspec": {
   "display_name": "Python 3",
   "language": "python",
   "name": "python3"
  },
  "language_info": {
   "codemirror_mode": {
    "name": "ipython",
    "version": 2
   },
   "file_extension": ".py",
   "mimetype": "text/x-python",
   "name": "python",
   "nbconvert_exporter": "python",
   "pygments_lexer": "ipython2",
   "version": "2.7.6"
  }
 },
 "nbformat": 4,
 "nbformat_minor": 5
}
